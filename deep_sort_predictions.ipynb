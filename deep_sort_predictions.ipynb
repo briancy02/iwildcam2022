{
 "cells": [
  {
   "cell_type": "code",
   "execution_count": 1,
   "id": "ce347ef1-badf-495c-a13d-418c39010340",
   "metadata": {},
   "outputs": [
    {
     "name": "stderr",
     "output_type": "stream",
     "text": [
      "/home/briancy2/.conda/envs/iwildcam/lib/python3.9/site-packages/tqdm/auto.py:22: TqdmWarning: IProgress not found. Please update jupyter and ipywidgets. See https://ipywidgets.readthedocs.io/en/stable/user_install.html\n",
      "  from .autonotebook import tqdm as notebook_tqdm\n"
     ]
    }
   ],
   "source": [
    "import os\n",
    "\n",
    "import numpy as np\n",
    "import pandas as pd\n",
    "from matplotlib import pyplot as plt\n",
    "import glob\n",
    "import json\n",
    "\n",
    "import cv2\n",
    "import torch\n",
    "from tqdm import tqdm_notebook\n",
    "from tqdm import tqdm\n",
    "from PIL import Image, ImageFile\n",
    "from torch.utils.data import Dataset, DataLoader\n",
    "import torchvision"
   ]
  },
  {
   "cell_type": "code",
   "execution_count": 2,
   "id": "82b0daca-a62f-495e-8de7-554fddf08f21",
   "metadata": {},
   "outputs": [
    {
     "name": "stderr",
     "output_type": "stream",
     "text": [
      "100%|██████████| 261428/261428 [00:00<00:00, 1483592.67it/s]\n"
     ]
    }
   ],
   "source": [
    "META_DIR = \"data/metadata/metadata/\"\n",
    "TRAIN_DIR = \"data/train/train/\"\n",
    "TEST_DIR = \"data/test/test/\"\n",
    "\n",
    "test_data = json.load(open(META_DIR + 'iwildcam2022_test_information.json'))\n",
    "train_data = json.load(open(META_DIR + 'iwildcam2022_train_annotations.json'))\n",
    "\n",
    "#Test images\n",
    "df_test = pd.DataFrame({'id': [item['id'] for item in test_data['images']],\n",
    "                                'seq_id': [item['seq_id'] for item in test_data['images']],\n",
    "                                'file_name': [item['file_name'] for item in test_data['images']],\n",
    "                                'location': [item['location'] for item in test_data['images']],\n",
    "                                'seq_num_frames': [item['seq_num_frames'] for item in test_data['images']],\n",
    "                                'seq_frame_num': [item['seq_frame_num'] for item in test_data['images']]})\n",
    "#Train images\n",
    "df_train = pd.DataFrame({'id': [item['id'] for item in train_data['images']],\n",
    "                                'seq_id': [item['seq_id'] for item in train_data['images']],\n",
    "                                'file_name': [item['file_name'] for item in train_data['images']],\n",
    "                                'location': [item['location'] for item in train_data['images']],\n",
    "                                'seq_num_frames': [item['seq_num_frames'] for item in train_data['images']],\n",
    "                                'seq_frame_num': [item['seq_frame_num'] for item in train_data['images']]})\n",
    "# Detection for train test\n",
    "detections = json.load(open(META_DIR+\"iwildcam2022_mdv4_detections.json\"))['images']\n",
    "det_dict = dict()\n",
    "for detection in tqdm(detections):\n",
    "    det_dict[detection['file']] = detection['detections']\n",
    "df_detection = pd.DataFrame({'file': [item['file'] for item in detections],\n",
    "                                'detections': [item['detections'] for item in detections]})\n",
    "# Test sequence ids\n",
    "test_sequence_ids = pd.unique(df_test['seq_id'])\n",
    "# Train sequence id and count\n",
    "train_seq_count = pd.read_csv(META_DIR+\"train_sequence_counts.csv\")"
   ]
  },
  {
   "cell_type": "code",
   "execution_count": 3,
   "id": "ea5a056d-82f7-45c3-a4b0-13c4b5eb8ab8",
   "metadata": {},
   "outputs": [
    {
     "ename": "SyntaxError",
     "evalue": "invalid syntax (1790939137.py, line 1)",
     "output_type": "error",
     "traceback": [
      "\u001b[0;36m  File \u001b[0;32m\"/tmp/ipykernel_3957484/1790939137.py\"\u001b[0;36m, line \u001b[0;32m1\u001b[0m\n\u001b[0;31m    train_seq_count.\u001b[0m\n\u001b[0m                    ^\u001b[0m\n\u001b[0;31mSyntaxError\u001b[0m\u001b[0;31m:\u001b[0m invalid syntax\n"
     ]
    }
   ],
   "source": [
    "train_seq_count."
   ]
  },
  {
   "cell_type": "code",
   "execution_count": 5,
   "id": "f5aa5bba-a681-4c3c-8459-5484f3f1c1fb",
   "metadata": {
    "tags": []
   },
   "outputs": [
    {
     "name": "stderr",
     "output_type": "stream",
     "text": [
      "100%|██████████| 11028/11028 [19:35<00:00,  9.38it/s]\n"
     ]
    }
   ],
   "source": [
    "from deep_sort.application_util import preprocessing\n",
    "from deep_sort.application_util import visualization\n",
    "from deep_sort.deep_sort import nn_matching\n",
    "from deep_sort.deep_sort.detection import Detection\n",
    "from deep_sort.deep_sort.tracker import Tracker\n",
    "metric = nn_matching.NearestNeighborDistanceMetric(\n",
    "        \"cosine\", 0.2, 100)\n",
    "file = open('submission_deep8.txt', 'w')\n",
    "file.write(\"Id,Predicted\")\n",
    "for sequence_id in tqdm(test_sequence_ids):\n",
    "    tracker = Tracker(metric)\n",
    "    results = []\n",
    "    img_rows = df_test.loc[df_test.seq_id == sequence_id]\n",
    "    for index, img_row in img_rows.iterrows():\n",
    "        detections = df_detection.loc[df_detection.file == ('test/'+img_row['file_name'])]['detections'].to_list()[0]\n",
    "        #print(set([d[\"category\"] for d in detections]))\n",
    "        detections = [Detection(tuple(det[\"bbox\"]), det[\"conf\"], []) for det in detections if det['conf']]\n",
    "        \n",
    "#         boxes = np.array([d for d in filtered_det])\n",
    "#         scores = np.array([d.confidence for d in detections])\n",
    "        tracker.predict()\n",
    "        tracker.update(detections)\n",
    "        for track in tracker.tracks:\n",
    "            if not track.is_confirmed() or track.time_since_update > 1:\n",
    "                continue\n",
    "            results.append(track.track_id)\n",
    "    count = len(set(results))   \n",
    "    file.write('\\n' + str(sequence_id) + ',' + str(count))"
   ]
  },
  {
   "cell_type": "code",
   "execution_count": 7,
   "id": "58065b21-0a61-4e3a-bd55-248db7d74d29",
   "metadata": {},
   "outputs": [],
   "source": [
    "file.close()"
   ]
  },
  {
   "cell_type": "code",
   "execution_count": 3,
   "id": "b7af39c1-0587-4bc3-b3d1-945924d7724b",
   "metadata": {},
   "outputs": [
    {
     "name": "stdout",
     "output_type": "stream",
     "text": [
      "1780\n"
     ]
    },
    {
     "name": "stderr",
     "output_type": "stream",
     "text": [
      "1780it [09:14,  3.21it/s]\n"
     ]
    }
   ],
   "source": [
    "from deep_sort.application_util import preprocessing\n",
    "from deep_sort.application_util import visualization\n",
    "from deep_sort.deep_sort import nn_matching\n",
    "from deep_sort.deep_sort.detection import Detection\n",
    "from deep_sort.deep_sort.tracker import Tracker\n",
    "print(len(train_seq_count))\n",
    "file = open('submission_deep8.txt', 'w')\n",
    "file.write(\"Id,Predicted\")\n",
    "counts = []\n",
    "metric = nn_matching.NearestNeighborDistanceMetric(\n",
    "        \"cosine\", 0.2, 100)\n",
    "for index, seq_row in tqdm(train_seq_count.iterrows()) :\n",
    "    tracker = Tracker(metric)\n",
    "    results = []\n",
    "    img_rows = df_train.loc[df_train.seq_id == seq_row[\"seq_id\"]]\n",
    "    for index, img_row in img_rows.iterrows():\n",
    "        detections = df_detection.loc[df_detection.file == ('train/'+img_row['file_name'])]['detections'].to_list()[0]\n",
    "        detections = [Detection(tuple(det[\"bbox\"]), det[\"conf\"], []) for det in detections]\n",
    "#         boxes = np.array([d for d in filtered_det])\n",
    "#         scores = np.array([d.confidence for d in detections])\n",
    "        tracker.predict()\n",
    "        tracker.update(detections)\n",
    "        for track in tracker.tracks:\n",
    "            if not track.is_confirmed() or track.time_since_update > 1:\n",
    "                continue\n",
    "            results.append(track.track_id)\n",
    "    count = len(set(results))   \n",
    "    counts.append(count)\n",
    "    file.write('\\n' + str(seq_row[\"seq_id\"]) + ',' + str(count))\n",
    "    "
   ]
  },
  {
   "cell_type": "code",
   "execution_count": 6,
   "id": "1b540c44-92a7-49f8-9cd8-5be519c2bdac",
   "metadata": {},
   "outputs": [],
   "source": [
    "img_rows = df_train.loc[df_train.seq_id == '302d5988-7d42-11eb-8fb5-0242ac1c0002']\n"
   ]
  },
  {
   "cell_type": "code",
   "execution_count": 7,
   "id": "90b39f8e-0dc3-44c8-817c-6cf1d83e6153",
   "metadata": {},
   "outputs": [],
   "source": [
    "loss = np.mean((np.array(counts) - train_seq_count[\"count\"].to_numpy()))"
   ]
  },
  {
   "cell_type": "code",
   "execution_count": 8,
   "id": "5362d19a-9de0-4c5c-9abe-73c2880e925d",
   "metadata": {},
   "outputs": [
    {
     "name": "stdout",
     "output_type": "stream",
     "text": [
      "0.06685393258426967\n"
     ]
    }
   ],
   "source": [
    "print(loss)"
   ]
  },
  {
   "cell_type": "code",
   "execution_count": 9,
   "id": "51d15624-e33c-49f6-8694-b77b150a6d2a",
   "metadata": {},
   "outputs": [
    {
     "name": "stdout",
     "output_type": "stream",
     "text": [
      "[0.998, 0.998, 0.988, 0.98, 0.951, 0.693, 0.38, 0.202, 0.202, 0.2, 0.174]\n",
      "[0.998, 0.992, 0.989, 0.989, 0.984, 0.965, 0.955, 0.375, 0.333, 0.271, 0.171, 0.162]\n",
      "[0.998, 0.993, 0.993, 0.977, 0.952, 0.947, 0.85, 0.668, 0.476, 0.353, 0.337, 0.247, 0.176, 0.169, 0.123, 0.121, 0.104]\n",
      "[0.999, 0.998, 0.995, 0.993, 0.977, 0.965, 0.774, 0.138, 0.132, 0.126, 0.104]\n",
      "[0.998, 0.996, 0.989, 0.988, 0.984, 0.969, -0.879, 0.733, 0.615, 0.353, 0.315, 0.277, 0.159, 0.159, 0.13, 0.124, 0.111]\n",
      "[0.998, 0.998, 0.996, 0.987, 0.986, 0.978, -0.92, 0.506, 0.362, 0.198, 0.197, 0.184, 0.164, 0.103]\n",
      "[0.999, 0.997, 0.994, 0.992, 0.959, -0.899, 0.64, 0.621, 0.464, 0.374, 0.364, 0.118, 0.109]\n"
     ]
    }
   ],
   "source": [
    "for index, img_row in img_rows.iterrows():\n",
    "    detections = df_detection.loc[df_detection.file == ('train/'+img_row['file_name'])]['detections'].to_list()[0]\n",
    "    print([det[\"conf\"] for det in detections])"
   ]
  },
  {
   "cell_type": "code",
   "execution_count": 7,
   "id": "d75f3a70-9b88-46de-8802-adda1bba522a",
   "metadata": {},
   "outputs": [
    {
     "data": {
      "text/html": [
       "<div>\n",
       "<style scoped>\n",
       "    .dataframe tbody tr th:only-of-type {\n",
       "        vertical-align: middle;\n",
       "    }\n",
       "\n",
       "    .dataframe tbody tr th {\n",
       "        vertical-align: top;\n",
       "    }\n",
       "\n",
       "    .dataframe thead th {\n",
       "        text-align: right;\n",
       "    }\n",
       "</style>\n",
       "<table border=\"1\" class=\"dataframe\">\n",
       "  <thead>\n",
       "    <tr style=\"text-align: right;\">\n",
       "      <th></th>\n",
       "      <th>id</th>\n",
       "      <th>seq_id</th>\n",
       "      <th>file_name</th>\n",
       "      <th>location</th>\n",
       "      <th>seq_num_frames</th>\n",
       "      <th>seq_frame_num</th>\n",
       "    </tr>\n",
       "  </thead>\n",
       "  <tbody>\n",
       "    <tr>\n",
       "      <th>77815</th>\n",
       "      <td>94a57b08-21bc-11ea-a13a-137349068a90</td>\n",
       "      <td>302d5988-7d42-11eb-8fb5-0242ac1c0002</td>\n",
       "      <td>94a57b08-21bc-11ea-a13a-137349068a90.jpg</td>\n",
       "      <td>170</td>\n",
       "      <td>7</td>\n",
       "      <td>0</td>\n",
       "    </tr>\n",
       "    <tr>\n",
       "      <th>77816</th>\n",
       "      <td>97a3447a-21bc-11ea-a13a-137349068a90</td>\n",
       "      <td>302d5988-7d42-11eb-8fb5-0242ac1c0002</td>\n",
       "      <td>97a3447a-21bc-11ea-a13a-137349068a90.jpg</td>\n",
       "      <td>170</td>\n",
       "      <td>7</td>\n",
       "      <td>1</td>\n",
       "    </tr>\n",
       "    <tr>\n",
       "      <th>77817</th>\n",
       "      <td>924d3828-21bc-11ea-a13a-137349068a90</td>\n",
       "      <td>302d5988-7d42-11eb-8fb5-0242ac1c0002</td>\n",
       "      <td>924d3828-21bc-11ea-a13a-137349068a90.jpg</td>\n",
       "      <td>170</td>\n",
       "      <td>7</td>\n",
       "      <td>2</td>\n",
       "    </tr>\n",
       "    <tr>\n",
       "      <th>77818</th>\n",
       "      <td>8be47ab4-21bc-11ea-a13a-137349068a90</td>\n",
       "      <td>302d5988-7d42-11eb-8fb5-0242ac1c0002</td>\n",
       "      <td>8be47ab4-21bc-11ea-a13a-137349068a90.jpg</td>\n",
       "      <td>170</td>\n",
       "      <td>7</td>\n",
       "      <td>3</td>\n",
       "    </tr>\n",
       "    <tr>\n",
       "      <th>77819</th>\n",
       "      <td>8e8e4e02-21bc-11ea-a13a-137349068a90</td>\n",
       "      <td>302d5988-7d42-11eb-8fb5-0242ac1c0002</td>\n",
       "      <td>8e8e4e02-21bc-11ea-a13a-137349068a90.jpg</td>\n",
       "      <td>170</td>\n",
       "      <td>7</td>\n",
       "      <td>4</td>\n",
       "    </tr>\n",
       "    <tr>\n",
       "      <th>77820</th>\n",
       "      <td>8e63e9fa-21bc-11ea-a13a-137349068a90</td>\n",
       "      <td>302d5988-7d42-11eb-8fb5-0242ac1c0002</td>\n",
       "      <td>8e63e9fa-21bc-11ea-a13a-137349068a90.jpg</td>\n",
       "      <td>170</td>\n",
       "      <td>7</td>\n",
       "      <td>5</td>\n",
       "    </tr>\n",
       "    <tr>\n",
       "      <th>77821</th>\n",
       "      <td>8a5f4480-21bc-11ea-a13a-137349068a90</td>\n",
       "      <td>302d5988-7d42-11eb-8fb5-0242ac1c0002</td>\n",
       "      <td>8a5f4480-21bc-11ea-a13a-137349068a90.jpg</td>\n",
       "      <td>170</td>\n",
       "      <td>7</td>\n",
       "      <td>6</td>\n",
       "    </tr>\n",
       "  </tbody>\n",
       "</table>\n",
       "</div>"
      ],
      "text/plain": [
       "                                         id  \\\n",
       "77815  94a57b08-21bc-11ea-a13a-137349068a90   \n",
       "77816  97a3447a-21bc-11ea-a13a-137349068a90   \n",
       "77817  924d3828-21bc-11ea-a13a-137349068a90   \n",
       "77818  8be47ab4-21bc-11ea-a13a-137349068a90   \n",
       "77819  8e8e4e02-21bc-11ea-a13a-137349068a90   \n",
       "77820  8e63e9fa-21bc-11ea-a13a-137349068a90   \n",
       "77821  8a5f4480-21bc-11ea-a13a-137349068a90   \n",
       "\n",
       "                                     seq_id  \\\n",
       "77815  302d5988-7d42-11eb-8fb5-0242ac1c0002   \n",
       "77816  302d5988-7d42-11eb-8fb5-0242ac1c0002   \n",
       "77817  302d5988-7d42-11eb-8fb5-0242ac1c0002   \n",
       "77818  302d5988-7d42-11eb-8fb5-0242ac1c0002   \n",
       "77819  302d5988-7d42-11eb-8fb5-0242ac1c0002   \n",
       "77820  302d5988-7d42-11eb-8fb5-0242ac1c0002   \n",
       "77821  302d5988-7d42-11eb-8fb5-0242ac1c0002   \n",
       "\n",
       "                                      file_name  location  seq_num_frames  \\\n",
       "77815  94a57b08-21bc-11ea-a13a-137349068a90.jpg       170               7   \n",
       "77816  97a3447a-21bc-11ea-a13a-137349068a90.jpg       170               7   \n",
       "77817  924d3828-21bc-11ea-a13a-137349068a90.jpg       170               7   \n",
       "77818  8be47ab4-21bc-11ea-a13a-137349068a90.jpg       170               7   \n",
       "77819  8e8e4e02-21bc-11ea-a13a-137349068a90.jpg       170               7   \n",
       "77820  8e63e9fa-21bc-11ea-a13a-137349068a90.jpg       170               7   \n",
       "77821  8a5f4480-21bc-11ea-a13a-137349068a90.jpg       170               7   \n",
       "\n",
       "       seq_frame_num  \n",
       "77815              0  \n",
       "77816              1  \n",
       "77817              2  \n",
       "77818              3  \n",
       "77819              4  \n",
       "77820              5  \n",
       "77821              6  "
      ]
     },
     "execution_count": 7,
     "metadata": {},
     "output_type": "execute_result"
    }
   ],
   "source": [
    "img_rows"
   ]
  },
  {
   "cell_type": "code",
   "execution_count": 4,
   "id": "187f4571-8b39-41be-acbd-86567f54e38c",
   "metadata": {},
   "outputs": [],
   "source": [
    "file.close()"
   ]
  },
  {
   "cell_type": "code",
   "execution_count": null,
   "id": "15bd7a6c-1684-4d6b-9d1b-e352471b6a82",
   "metadata": {},
   "outputs": [],
   "source": []
  },
  {
   "cell_type": "code",
   "execution_count": null,
   "id": "4f83235a-4e0f-4d62-8aab-00e4ee49bd11",
   "metadata": {},
   "outputs": [],
   "source": [
    "!git add ."
   ]
  },
  {
   "cell_type": "code",
   "execution_count": 37,
   "id": "3f8878e3-1026-4799-9392-78a8a582fcf5",
   "metadata": {},
   "outputs": [
    {
     "name": "stdout",
     "output_type": "stream",
     "text": [
      "[main 7789cd0] created deep_sort_predictions notebook\n",
      " 3 files changed, 318 insertions(+), 9 deletions(-)\n",
      " create mode 100644 .ipynb_checkpoints/deep_sort_predictions-checkpoint.ipynb\n",
      " create mode 100644 deep_sort_predictions.ipynb\n"
     ]
    }
   ],
   "source": [
    "!git commit -am \"created deep_sort_predictions notebook\""
   ]
  },
  {
   "cell_type": "code",
   "execution_count": null,
   "id": "7a3c182b-761a-4fc2-95a7-89b663133dc8",
   "metadata": {},
   "outputs": [],
   "source": []
  }
 ],
 "metadata": {
  "kernelspec": {
   "display_name": "Python [conda env:.conda-iwildcam]",
   "language": "python",
   "name": "conda-env-.conda-iwildcam-py"
  },
  "language_info": {
   "codemirror_mode": {
    "name": "ipython",
    "version": 3
   },
   "file_extension": ".py",
   "mimetype": "text/x-python",
   "name": "python",
   "nbconvert_exporter": "python",
   "pygments_lexer": "ipython3",
   "version": "3.9.12"
  }
 },
 "nbformat": 4,
 "nbformat_minor": 5
}
