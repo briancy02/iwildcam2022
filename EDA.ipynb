{
 "cells": [
  {
   "cell_type": "code",
   "execution_count": 1,
   "id": "83fd9e58",
   "metadata": {
    "_cell_guid": "b1076dfc-b9ad-4769-8c92-a6c4dae69d19",
    "_uuid": "8f2839f25d086af736a60e9eeb907d3b93b6e0e5",
    "execution": {
     "iopub.execute_input": "2022-04-04T19:46:39.775587Z",
     "iopub.status.busy": "2022-04-04T19:46:39.774877Z",
     "iopub.status.idle": "2022-04-04T19:46:41.677310Z",
     "shell.execute_reply": "2022-04-04T19:46:41.676590Z",
     "shell.execute_reply.started": "2022-04-04T19:38:11.663254Z"
    },
    "papermill": {
     "duration": 1.918912,
     "end_time": "2022-04-04T19:46:41.677480",
     "exception": false,
     "start_time": "2022-04-04T19:46:39.758568",
     "status": "completed"
    },
    "tags": []
   },
   "outputs": [],
   "source": [
    "import os\n",
    "\n",
    "import numpy as np\n",
    "import pandas as pd\n",
    "from matplotlib import pyplot as plt\n",
    "import glob\n",
    "import json\n",
    "\n",
    "import cv2\n",
    "import torch\n",
    "from tqdm import tqdm_notebook\n",
    "from PIL import Image, ImageFile\n",
    "from torch.utils.data import Dataset, DataLoader\n",
    "from torchvision import models"
   ]
  },
  {
   "cell_type": "code",
   "execution_count": 2,
   "id": "fb953edb",
   "metadata": {
    "execution": {
     "iopub.execute_input": "2022-04-04T19:46:41.694989Z",
     "iopub.status.busy": "2022-04-04T19:46:41.694180Z",
     "iopub.status.idle": "2022-04-04T19:46:43.944007Z",
     "shell.execute_reply": "2022-04-04T19:46:43.943244Z",
     "shell.execute_reply.started": "2022-04-04T19:44:57.185438Z"
    },
    "papermill": {
     "duration": 2.259495,
     "end_time": "2022-04-04T19:46:43.944162",
     "exception": false,
     "start_time": "2022-04-04T19:46:41.684667",
     "status": "completed"
    },
    "tags": []
   },
   "outputs": [],
   "source": [
    "META_DIR = \"/kaggle/input/iwildcam2022-fgvc9/metadata/metadata/\"\n",
    "TRAIN_DIR = \"/kaggle/input/iwildcam2022-fgvc9/train/train/\"\n",
    "\n",
    "train_data = json.load(open(META_DIR + 'iwildcam2022_train_annotations.json'))"
   ]
  },
  {
   "cell_type": "code",
   "execution_count": 3,
   "id": "63bc8a3f",
   "metadata": {
    "execution": {
     "iopub.execute_input": "2022-04-04T19:46:43.972909Z",
     "iopub.status.busy": "2022-04-04T19:46:43.961701Z",
     "iopub.status.idle": "2022-04-04T19:46:44.256187Z",
     "shell.execute_reply": "2022-04-04T19:46:44.256973Z",
     "shell.execute_reply.started": "2022-04-04T19:45:16.591802Z"
    },
    "papermill": {
     "duration": 0.308262,
     "end_time": "2022-04-04T19:46:44.257174",
     "exception": false,
     "start_time": "2022-04-04T19:46:43.948912",
     "status": "completed"
    },
    "tags": []
   },
   "outputs": [
    {
     "data": {
      "text/html": [
       "<div>\n",
       "<style scoped>\n",
       "    .dataframe tbody tr th:only-of-type {\n",
       "        vertical-align: middle;\n",
       "    }\n",
       "\n",
       "    .dataframe tbody tr th {\n",
       "        vertical-align: top;\n",
       "    }\n",
       "\n",
       "    .dataframe thead th {\n",
       "        text-align: right;\n",
       "    }\n",
       "</style>\n",
       "<table border=\"1\" class=\"dataframe\">\n",
       "  <thead>\n",
       "    <tr style=\"text-align: right;\">\n",
       "      <th></th>\n",
       "      <th>id</th>\n",
       "      <th>category_id</th>\n",
       "      <th>image_id</th>\n",
       "      <th>file_name</th>\n",
       "    </tr>\n",
       "  </thead>\n",
       "  <tbody>\n",
       "    <tr>\n",
       "      <th>0</th>\n",
       "      <td>a292dd3c-21bc-11ea-a13a-137349068a90</td>\n",
       "      <td>73</td>\n",
       "      <td>96b00332-21bc-11ea-a13a-137349068a90</td>\n",
       "      <td>8b02698a-21bc-11ea-a13a-137349068a90.jpg</td>\n",
       "    </tr>\n",
       "    <tr>\n",
       "      <th>1</th>\n",
       "      <td>a0afcfc0-21bc-11ea-a13a-137349068a90</td>\n",
       "      <td>4</td>\n",
       "      <td>879d74d8-21bc-11ea-a13a-137349068a90</td>\n",
       "      <td>8e5b81de-21bc-11ea-a13a-137349068a90.jpg</td>\n",
       "    </tr>\n",
       "    <tr>\n",
       "      <th>2</th>\n",
       "      <td>a306e9c0-21bc-11ea-a13a-137349068a90</td>\n",
       "      <td>227</td>\n",
       "      <td>9017f7aa-21bc-11ea-a13a-137349068a90</td>\n",
       "      <td>8c6be0e4-21bc-11ea-a13a-137349068a90.jpg</td>\n",
       "    </tr>\n",
       "    <tr>\n",
       "      <th>3</th>\n",
       "      <td>9eed94c4-21bc-11ea-a13a-137349068a90</td>\n",
       "      <td>250</td>\n",
       "      <td>90d93c58-21bc-11ea-a13a-137349068a90</td>\n",
       "      <td>8fdf7998-21bc-11ea-a13a-137349068a90.jpg</td>\n",
       "    </tr>\n",
       "    <tr>\n",
       "      <th>4</th>\n",
       "      <td>a2a4dd7a-21bc-11ea-a13a-137349068a90</td>\n",
       "      <td>2</td>\n",
       "      <td>887cd0ec-21bc-11ea-a13a-137349068a90</td>\n",
       "      <td>96093c50-21bc-11ea-a13a-137349068a90.jpg</td>\n",
       "    </tr>\n",
       "  </tbody>\n",
       "</table>\n",
       "</div>"
      ],
      "text/plain": [
       "                                     id  category_id  \\\n",
       "0  a292dd3c-21bc-11ea-a13a-137349068a90           73   \n",
       "1  a0afcfc0-21bc-11ea-a13a-137349068a90            4   \n",
       "2  a306e9c0-21bc-11ea-a13a-137349068a90          227   \n",
       "3  9eed94c4-21bc-11ea-a13a-137349068a90          250   \n",
       "4  a2a4dd7a-21bc-11ea-a13a-137349068a90            2   \n",
       "\n",
       "                               image_id  \\\n",
       "0  96b00332-21bc-11ea-a13a-137349068a90   \n",
       "1  879d74d8-21bc-11ea-a13a-137349068a90   \n",
       "2  9017f7aa-21bc-11ea-a13a-137349068a90   \n",
       "3  90d93c58-21bc-11ea-a13a-137349068a90   \n",
       "4  887cd0ec-21bc-11ea-a13a-137349068a90   \n",
       "\n",
       "                                  file_name  \n",
       "0  8b02698a-21bc-11ea-a13a-137349068a90.jpg  \n",
       "1  8e5b81de-21bc-11ea-a13a-137349068a90.jpg  \n",
       "2  8c6be0e4-21bc-11ea-a13a-137349068a90.jpg  \n",
       "3  8fdf7998-21bc-11ea-a13a-137349068a90.jpg  \n",
       "4  96093c50-21bc-11ea-a13a-137349068a90.jpg  "
      ]
     },
     "execution_count": 3,
     "metadata": {},
     "output_type": "execute_result"
    }
   ],
   "source": [
    "df_train = pd.DataFrame({'id': [item['id'] for item in train_data['annotations']],\n",
    "                                'category_id': [item['category_id'] for item in train_data['annotations']],\n",
    "                                'image_id': [item['image_id'] for item in train_data['annotations']],\n",
    "                                'file_name': [item['file_name'] for item in train_data['images']]})\n",
    "\n",
    "df_train.head()"
   ]
  }
 ],
 "metadata": {
  "kernelspec": {
   "display_name": "Python 3",
   "language": "python",
   "name": "python3"
  },
  "language_info": {
   "codemirror_mode": {
    "name": "ipython",
    "version": 3
   },
   "file_extension": ".py",
   "mimetype": "text/x-python",
   "name": "python",
   "nbconvert_exporter": "python",
   "pygments_lexer": "ipython3",
   "version": "3.7.12"
  },
  "papermill": {
   "default_parameters": {},
   "duration": 16.250753,
   "end_time": "2022-04-04T19:46:45.275994",
   "environment_variables": {},
   "exception": null,
   "input_path": "__notebook__.ipynb",
   "output_path": "__notebook__.ipynb",
   "parameters": {},
   "start_time": "2022-04-04T19:46:29.025241",
   "version": "2.3.3"
  }
 },
 "nbformat": 4,
 "nbformat_minor": 5
}
